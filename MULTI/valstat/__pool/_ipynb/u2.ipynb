{
 "cells": [
  {
   "cell_type": "markdown",
   "metadata": {},
   "source": [
    "Válasszunk a $[-1,1]$-ből véletlenszerűen egy számot, majd emeljük négyzetre! \n",
    "A kapott (véletlen) mennyiséget jelöljük $X$-el. \n",
    "1. adjuk meg $X$ eloszlásfüggvényét!\n",
    "2. adjuk meg $X$ sűrűségfüggvényét!\n",
    "\n",
    " \n",
    "$$\n",
    " P(X<x)=\n",
    " \\begin{cases}\n",
    " 0  & x\\leq 0\\\\\n",
    " (*)& 0<x\\leq 1\\\\\n",
    " 1  &  x>1\n",
    " \\end{cases}\n",
    "$$\n",
    "$$\n",
    " (*)=P(Y^2<x)=P(|Y|<\\sqrt{x})=\n",
    "$$\n",
    "$$\n",
    " =P(-\\sqrt{x}<Y<\\sqrt{x})=F_{Y}(\\sqrt{x})-F_{Y}(-\\sqrt{x})=\\sqrt{x}\n",
    "$$\n",
    " mivel $Y$ egy $[-1,1]$-en \n",
    " egyenletes v.v., így eloszlásfv-e: $\\frac{x+1}{2}$.\n",
    " \n",
    "a sfv: $\\frac{1}{2\\sqrt{x}}$ $[0,1]$-en, máskor $0$, az eloszlásfv. \n",
    "deriválásával.\n",
    " "
   ]
  },
  {
   "cell_type": "markdown",
   "metadata": {},
   "source": [
    "1. Végezzük el az előző feladatbeli kísérletet $100000$-szer. \n",
    "Ábrázoljuk histogramon az eredményt!\n",
    "1. Ha $\\Delta x$ kicsi akkor \n",
    "$$\n",
    "f\\left(x+\\frac{\\Delta}{2}\\right)\\Delta x \\approx\n",
    "f\\left(x\\right)\\Delta x \\approx\n",
    "$$\n",
    "$$\n",
    " \\approx F(x+\\Delta x)-F(x)=P(x\\leq X<x+\\Delta x)\n",
    "$$\n",
    "emiatt a histogramon látható dobozok magasságát (gyakoriság), közelítőleg megkaphatjuk a sfv.-ből. (relatív gyakoriság) és fordítva is.\n",
    "\n"
   ]
  },
  {
   "cell_type": "code",
   "execution_count": 21,
   "metadata": {},
   "outputs": [
    {
     "data": {
      "image/png": "[encoded data removed]",
      "text/plain": [
       "<IPython.core.display.Image object>"
      ]
     },
     "metadata": {},
     "output_type": "display_data"
    }
   ],
   "source": [
    "# 1\n",
    "N=1e5;\n",
    "X=(2*rand(N,1)-1).^2;\n",
    "hist(X,10,1)# adat, dobozok száma, magassagok osszege (nem terulet!)\n",
    "# 2\n",
    "dx=0.1;\n",
    "dom=0.05:0.1:1;\n",
    "f=@(x) 0.5./sqrt(x);\n",
    "hold on\n",
    "plot(dom,dx*f(dom))\n",
    "plot(dom,dx*f(dom),'o')\n"
   ]
  },
  {
   "cell_type": "markdown",
   "metadata": {},
   "source": [
    "Miért rossz a közelítés a $0$ közelében? "
   ]
  },
  {
   "cell_type": "code",
   "execution_count": 11,
   "metadata": {},
   "outputs": [
    {
     "name": "stdout",
     "output_type": "stream",
     "text": [
      "'hist' is a function from the file /usr/share/octave/4.2.2/m/plot/draw/hist.m\n",
      "\n",
      " -- hist (Y)\n",
      " -- hist (Y, X)\n",
      " -- hist (Y, NBINS)\n",
      " -- hist (Y, X, NORM)\n",
      " -- hist (..., PROP, VAL, ...)\n",
      " -- hist (HAX, ...)\n",
      " -- [NN, XX] = hist (...)\n",
      "     Produce histogram counts or plots.\n",
      "\n",
      "     With one vector input argument, Y, plot a histogram of the values\n",
      "     with 10 bins.  The range of the histogram bins is determined by the\n",
      "     range of the data.  With one matrix input argument, Y, plot a\n",
      "     histogram where each bin contains a bar per input column.\n",
      "\n",
      "     Given a second vector argument, X, use that as the centers of the\n",
      "     bins, with the width of the bins determined from the adjacent\n",
      "     values in the vector.\n",
      "\n",
      "     If scalar, the second argument, NBINS, defines the number of bins.\n",
      "\n",
      "     If a third argument is provided, the histogram is normalized such\n",
      "     that the sum of the bars is equal to NORM.\n",
      "\n",
      "     Extreme values are lumped into the first and last bins.\n",
      "\n",
      "     The histogram's appearance may be modified by specifying\n",
      "     property/value pairs.  For example the face and edge color may be\n",
      "     modified.\n",
      "\n",
      "          hist (randn (1, 100), 25, \"facecolor\", \"r\", \"edgecolor\", \"b\");\n",
      "\n",
      "     The histogram's colors also depend upon the current colormap.\n",
      "\n",
      "          hist (rand (10, 3));\n",
      "          colormap (summer ());\n",
      "\n",
      "     If the first argument HAX is an axes handle, then plot into this\n",
      "     axes, rather than the current axes returned by 'gca'.\n",
      "\n",
      "     With two output arguments, produce the values NN (numbers of\n",
      "     elements) and XX (bin centers) such that 'bar (XX, NN)' will plot\n",
      "     the histogram.\n",
      "\n",
      "     See also: histc, bar, pie, rose.\n",
      "\n",
      "Additional help for built-in functions and operators is\n",
      "available in the online version of the manual.  Use the command\n",
      "'doc <topic>' to search the manual index.\n",
      "\n",
      "Help and information about Octave is also available on the WWW\n",
      "at http://www.octave.org and via the help@octave.org\n",
      "mailing list.\n"
     ]
    }
   ],
   "source": [
    "help hist"
   ]
  },
  {
   "cell_type": "code",
   "execution_count": null,
   "metadata": {},
   "outputs": [],
   "source": []
  }
 ],
 "metadata": {
  "@webio": {
   "lastCommId": "e1a2cade94f94a24826cd404273cb255",
   "lastKernelId": "a8a3e587-d9b3-4d58-acfc-b5b05f973f77"
  },
  "kernelspec": {
   "display_name": "Octave",
   "language": "octave",
   "name": "octave"
  },
  "language_info": {
   "file_extension": ".m",
   "help_links": [
    {
     "text": "GNU Octave",
     "url": "https://www.gnu.org/software/octave/support.html"
    },
    {
     "text": "Octave Kernel",
     "url": "https://github.com/Calysto/octave_kernel"
    },
    {
     "text": "MetaKernel Magics",
     "url": "https://github.com/calysto/metakernel/blob/master/metakernel/magics/README.md"
    }
   ],
   "mimetype": "text/x-octave",
   "name": "octave",
   "version": "4.2.2"
  }
 },
 "nbformat": 4,
 "nbformat_minor": 2
}
