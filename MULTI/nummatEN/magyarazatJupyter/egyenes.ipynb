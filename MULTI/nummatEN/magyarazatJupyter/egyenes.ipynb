{
 "cells": [
  {
   "cell_type": "markdown",
   "metadata": {},
   "source": [
    "### Theory\n",
    "According to the divided-difference method, the first order polynomial (linear function, line) that interpolates the points $(a,b)$ and $(c,d)$:\n",
    "$$\n",
    "L(t)=b+\\frac{d-b}{c-a}(t-a)\n",
    "$$\n",
    "As you see, it is very easy to determine the first order interpolant.\n",
    "### Example\n",
    "Interpolate the points $(1,2)$ and $(-1,7)$ by a line, and compute its value at $0$!\n",
    "#### Solution by hand\n",
    "$$\n",
    "L(t)=2+\\frac{5}{-2}(t-1)=2-\\frac{5}{2}(t-1)=\\frac{9-5t}{2} \\ \\implies\n",
    "L(0)=\\frac{9}{2}\n",
    "$$\n",
    "#### Solution by Octave\n",
    "Note, that the data should be given to ```polyfit``` not point-wise, but coordinate-wise!"
   ]
  },
  {
   "cell_type": "code",
   "execution_count": 4,
   "metadata": {},
   "outputs": [
    {
     "name": "stdout",
     "output_type": "stream",
     "text": [
      "L =\n",
      "\n",
      "       -5/2        9/2\n",
      "\n",
      "ans = 9/2\n"
     ]
    }
   ],
   "source": [
    "% x-coordinates, y-coordinates, the degree (order) of polynomial, here 1\n",
    "L=polyfit([1,-1], [2,7], 1)\n",
    "% the result is a plain vector, that can be interpreted as a polynomial\n",
    "% actually it is -2.5*t+4.5\n",
    "% the coefficients returned by polyfit are in decreasing order\n",
    "polyval(L,0)"
   ]
  },
  {
   "cell_type": "code",
   "execution_count": 1,
   "metadata": {},
   "outputs": [
    {
     "name": "stdout",
     "output_type": "stream",
     "text": [
      "L =\n",
      "\n",
      "       -5/2        9/2\n",
      "\n",
      "ans = 9/2\n"
     ]
    }
   ],
   "source": [
    "% for verifying calculations, it is convenient to switch the format to rational:\n",
    "format rat\n",
    "L=polyfit([1,-1], [2,7], 1)\n",
    "polyval(L,0)\n",
    "% also, do not forget to switch back to floating point format"
   ]
  },
  {
   "cell_type": "markdown",
   "metadata": {},
   "source": [
    "### Plotting\n",
    "You can plot the fitted line and the points in one plot."
   ]
  },
  {
   "cell_type": "code",
   "execution_count": 17,
   "metadata": {},
   "outputs": [
    {
     "data": {
      "image/png": "[encoded data removed]",
      "text/plain": [
       "<IPython.core.display.Image object>"
      ]
     },
     "metadata": {},
     "output_type": "display_data"
    }
   ],
   "source": [
    "% '*' is a marker, to get individual points\n",
    "% 'k' is the color code for red\n",
    "plot([1,-1], [2,7], 'r*');\n",
    "hold on; % do not start new figure\n",
    "dom=-1.5:0.01:1.5; % set up a little bit wider interval for the domain of our line\n",
    "L=polyfit([1,-1], [2,7], 1,'b'); % 'b' is the code for blue\n",
    "plot(dom, polyval(L,dom)) % actually, for lines it is enough two points for plotting, but this code is reusable\n"
   ]
  }
 ],
 "metadata": {
  "kernelspec": {
   "display_name": "Octave",
   "language": "octave",
   "name": "octave"
  },
  "language_info": {
   "file_extension": ".m",
   "help_links": [
    {
     "text": "GNU Octave",
     "url": "https://www.gnu.org/software/octave/support.html"
    },
    {
     "text": "Octave Kernel",
     "url": "https://github.com/Calysto/octave_kernel"
    },
    {
     "text": "MetaKernel Magics",
     "url": "https://metakernel.readthedocs.io/en/latest/source/README.html"
    }
   ],
   "mimetype": "text/x-octave",
   "name": "octave",
   "version": "4.2.2"
  }
 },
 "nbformat": 4,
 "nbformat_minor": 2
}
