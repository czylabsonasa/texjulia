{
 "cells": [
  {
   "cell_type": "markdown",
   "metadata": {},
   "source": [
    "### Theory\n",
    "According to the divided-difference method, the second order polynomial (quadratic function, parabola) that interpolates the points \n",
    "$$\n",
    "(t_1,f_1)\\ (t_2,f_2)\\ (t_3,f_3)\n",
    "$$\n",
    "is\n",
    "$$\n",
    "L(t)=f_1 + \\frac{f_1-f_2}{t_1-t_2}(t-t_1)+\\frac{\\frac{f_1-f_2}{t_1-t_2}-\\frac{f_2-f_3}{t_2-t_3}}{t_1-t_3}(t-t_1)(t-t_2)\n",
    "$$\n",
    "No need to remember this complex formula, always set up the corresponding table, with numerical values!\n",
    "### Example\n",
    "Interpolate the points $(1,6),(2,17)$ and $(-1,2)$ by a quadratic function, and compute its value at $-4$!\n",
    "#### Solution by hand\n",
    "$$\n",
    "L(t)=6+11(t-1)+3(t-1)(t-2)\\ \\implies\n",
    "L(-4)=6-55+90=41\n",
    "$$\n",
    "\n",
    "You can get the same function in different form, according to the order of the points.\n",
    "\n",
    "#### Solution by Octave"
   ]
  },
  {
   "cell_type": "code",
   "execution_count": 24,
   "metadata": {},
   "outputs": [
    {
     "name": "stdout",
     "output_type": "stream",
     "text": [
      "L =\n",
      "\n",
      "   3.00000   2.00000   1.00000\n",
      "\n",
      "ans =  41\n"
     ]
    }
   ],
   "source": [
    "L=polyfit([1,2,-1], [6,17,2], 2)\n",
    "polyval(L,-4)"
   ]
  },
  {
   "cell_type": "markdown",
   "metadata": {},
   "source": [
    "By the unicity of the interpolating polynomial (Lagrange theorem), \n",
    "the polynomial that we computed by hand and the one returned by ```polyfit``` \n",
    "$$ \n",
    "\\text{MUST BE THE SAME}\n",
    "$$\n",
    "unless you did a mistake."
   ]
  },
  {
   "cell_type": "markdown",
   "metadata": {},
   "source": [
    "### Plotting\n",
    "You can plot the interpolant and the points in one plot."
   ]
  },
  {
   "cell_type": "code",
   "execution_count": 25,
   "metadata": {},
   "outputs": [
    {
     "data": {
      "image/png": "[encoded data removed]",
      "text/plain": [
       "<IPython.core.display.Image object>"
      ]
     },
     "metadata": {},
     "output_type": "display_data"
    }
   ],
   "source": [
    "plot([1,2,-1], [6,17,2], 'r*');\n",
    "hold on;\n",
    "dom=-1.5:0.01:2.5;\n",
    "L=polyfit([1,2,-1], [6,17,2], 2);\n",
    "plot(dom, polyval(L,dom))"
   ]
  },
  {
   "cell_type": "code",
   "execution_count": null,
   "metadata": {},
   "outputs": [],
   "source": []
  }
 ],
 "metadata": {
  "kernelspec": {
   "display_name": "Octave",
   "language": "octave",
   "name": "octave"
  },
  "language_info": {
   "file_extension": ".m",
   "help_links": [
    {
     "text": "GNU Octave",
     "url": "https://www.gnu.org/software/octave/support.html"
    },
    {
     "text": "Octave Kernel",
     "url": "https://github.com/Calysto/octave_kernel"
    },
    {
     "text": "MetaKernel Magics",
     "url": "https://metakernel.readthedocs.io/en/latest/source/README.html"
    }
   ],
   "mimetype": "text/x-octave",
   "name": "octave",
   "version": "4.2.2"
  }
 },
 "nbformat": 4,
 "nbformat_minor": 2
}
